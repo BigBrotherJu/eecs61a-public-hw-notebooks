{
 "cells": [
  {
   "cell_type": "markdown",
   "metadata": {},
   "source": [
    "# EECS16A: Homework 7A"
   ]
  },
  {
   "cell_type": "markdown",
   "metadata": {},
   "source": [
    "# Question 1: Labeling Patients"
   ]
  },
  {
   "cell_type": "code",
   "execution_count": null,
   "metadata": {},
   "outputs": [],
   "source": [
    "%pylab inline\n",
    "import numpy as np\n",
    "import matplotlib.pyplot as plt\n",
    "import scipy.io\n",
    "import sys"
   ]
  },
  {
   "cell_type": "code",
   "execution_count": null,
   "metadata": {
    "collapsed": true
   },
   "outputs": [],
   "source": [
    "# Part B\n",
    "A = np.load('gene_data_train.npy')\n",
    "b = np.load('diabetes_train.npy')\n"
   ]
  },
  {
   "cell_type": "code",
   "execution_count": null,
   "metadata": {
    "collapsed": true
   },
   "outputs": [],
   "source": [
    "# Part C\n",
    "A_test = np.load('gene_data_test.npy')\n",
    "b_test = np.load('diabetes_test.npy')\n"
   ]
  },
  {
   "cell_type": "markdown",
   "metadata": {},
   "source": [
    "# Question 2: Noise Cancelling Headphones"
   ]
  },
  {
   "cell_type": "code",
   "execution_count": null,
   "metadata": {
    "collapsed": true
   },
   "outputs": [],
   "source": [
    "%matplotlib inline\n",
    "\n",
    "import numpy as np\n",
    "from matplotlib.pyplot import plot\n",
    "from scipy.io import wavfile\n",
    "\n",
    "from audio_support import wavPlayer\n",
    "from audio_support import loadSounds\n",
    "from audio_support import recordAmbientNoise"
   ]
  },
  {
   "cell_type": "markdown",
   "metadata": {},
   "source": [
    "### Part c)\n",
    "In the following cell, implement the least squares solution to \n",
    "$$\\min\\limits_{\\vec x} \\left\\| A \\vec x - \\vec b \\right\\|$$"
   ]
  },
  {
   "cell_type": "code",
   "execution_count": null,
   "metadata": {
    "collapsed": true
   },
   "outputs": [],
   "source": [
    "def doLeastSquares(A,b):\n",
    "    # BEGIN\n",
    "    \n",
    "    # END\n",
    "    return x;  "
   ]
  },
  {
   "cell_type": "markdown",
   "metadata": {},
   "source": [
    "### Part d)\n",
    "Use your least squares solution to find the gamma that minimizes the effect of noise given:\n",
    "\n",
    "$$\\vec n = \\begin{bmatrix} 0.10\\\\ 0.37\\\\-0.45\\\\0.068\\\\0.036 \\end{bmatrix};\n",
    "\t\\vec r_A = \\begin{bmatrix} 0\\\\ 0.11\\\\-0.31\\\\-0.012\\\\-0.018 \\end{bmatrix};\n",
    "\t\\vec r_B = \\begin{bmatrix} 0\\\\ 0.22\\\\-0.20\\\\0.080\\\\0.056 \\end{bmatrix};\n",
    "\t\\vec r_C = \\begin{bmatrix} 0\\\\ 0.37\\\\-0.44\\\\0.065\\\\0.038 \\end{bmatrix}$$\n"
   ]
  },
  {
   "cell_type": "code",
   "execution_count": null,
   "metadata": {},
   "outputs": [],
   "source": [
    "n1 = 0.10;\n",
    "n2 = 0.37;\n",
    "n3 = -0.45;\n",
    "n4 = 0.068;\n",
    "n5 = 0.036;\n",
    "\n",
    "a1 = 0;\n",
    "a2 = 0.11;\n",
    "a3 = -0.31;\n",
    "a4 = -0.012;\n",
    "a5 = -0.018;\n",
    "\n",
    "b1 = 0;\n",
    "b2 = 0.22;\n",
    "b3 = -0.20;\n",
    "b4 = 0.080;\n",
    "b5 = 0.056;\n",
    "\n",
    "c1 = 0;\n",
    "c2 = 0.37;\n",
    "c3 = -0.44;\n",
    "c4 = 0.065;\n",
    "c5 = 0.038;\n",
    "\n",
    "# BEGIN\n",
    "\n",
    "'...'\n",
    "gamma = \n",
    "\n",
    "# END\n",
    "print(gamma)"
   ]
  },
  {
   "cell_type": "markdown",
   "metadata": {},
   "source": [
    "<font color=\"red\">Report the results for your gamma-vector."
   ]
  },
  {
   "cell_type": "markdown",
   "metadata": {},
   "source": [
    "### Part e)\n",
    "First, we'll load the sounds from the included .wav files."
   ]
  },
  {
   "cell_type": "code",
   "execution_count": null,
   "metadata": {
    "collapsed": true
   },
   "outputs": [],
   "source": [
    "[music_Fs, music_y, noise1_y, noise1_Fs, noise2_y, noise2_Fs] = loadSounds();"
   ]
  },
  {
   "cell_type": "code",
   "execution_count": null,
   "metadata": {},
   "outputs": [],
   "source": [
    "noise1_y"
   ]
  },
  {
   "cell_type": "markdown",
   "metadata": {},
   "source": [
    "We can use the following function to listen to our signals throughout this notebook. \n",
    "\n",
    "<font color=\"red\">Listen to each of the loaded sounds (`music_y`, `noise1_y`, and `noise2_y`). What do you hear?"
   ]
  },
  {
   "cell_type": "code",
   "execution_count": null,
   "metadata": {},
   "outputs": [],
   "source": [
    "wavPlayer(music_y, music_Fs)"
   ]
  },
  {
   "cell_type": "markdown",
   "metadata": {},
   "source": [
    "Add the first noise to the signal and listen to the result."
   ]
  },
  {
   "cell_type": "code",
   "execution_count": null,
   "metadata": {},
   "outputs": [],
   "source": [
    "noisyMusic = music_y + noise1_y;\n",
    "wavPlayer(noisyMusic, music_Fs)"
   ]
  },
  {
   "cell_type": "markdown",
   "metadata": {},
   "source": [
    "<font color=\"red\">Add the second noise to the signal and listen to the result."
   ]
  },
  {
   "cell_type": "code",
   "execution_count": null,
   "metadata": {
    "collapsed": true
   },
   "outputs": [],
   "source": [
    "# BEGIN\n",
    "\n",
    "# END"
   ]
  },
  {
   "cell_type": "markdown",
   "metadata": {},
   "source": [
    "### Part f)\n",
    "Next, we will simulate the recording of `noise1` using a simulated microphone array."
   ]
  },
  {
   "cell_type": "code",
   "execution_count": null,
   "metadata": {
    "collapsed": true
   },
   "outputs": [],
   "source": [
    "numberOfMicrophones = 3;\n",
    "R = recordAmbientNoise(noise1_y,noise1_Fs,numberOfMicrophones);\n"
   ]
  },
  {
   "cell_type": "markdown",
   "metadata": {},
   "source": [
    "<font color=\"red\">In the cell below, calculate the gamma-vector using the least squares approach (you should calculate `gamma` from `R` and `noise1_y`). "
   ]
  },
  {
   "cell_type": "code",
   "execution_count": null,
   "metadata": {},
   "outputs": [],
   "source": [
    "# BEGIN\n",
    "gamma = \n",
    "# END"
   ]
  },
  {
   "cell_type": "markdown",
   "metadata": {},
   "source": [
    "<font color=\"red\">In the cell below, create the noise cancellation signal by multiplying `R` and `gamma`. Add the result to `music_y` (with the right sign) to get `signalFromSpeaker`."
   ]
  },
  {
   "cell_type": "code",
   "execution_count": null,
   "metadata": {},
   "outputs": [],
   "source": [
    "# BEGIN\n",
    "'...'\n",
    "signalFromSpeaker = \n",
    "# END"
   ]
  },
  {
   "cell_type": "markdown",
   "metadata": {},
   "source": [
    "### Part g)\n",
    "Generate the signal at the listener's ear by adding the speaker signal (`signalFromSpeaker`) to the original noise signal (`noise1_y`)."
   ]
  },
  {
   "cell_type": "code",
   "execution_count": null,
   "metadata": {},
   "outputs": [],
   "source": [
    "# BEGIN\n",
    "signalAtEar =\n",
    "# END"
   ]
  },
  {
   "cell_type": "markdown",
   "metadata": {},
   "source": [
    "Listen to the noisy and noise-cancelled signal."
   ]
  },
  {
   "cell_type": "code",
   "execution_count": null,
   "metadata": {},
   "outputs": [],
   "source": [
    "wavPlayer(noisyMusic, music_Fs)\n",
    "wavPlayer(signalAtEar, music_Fs)"
   ]
  },
  {
   "cell_type": "markdown",
   "metadata": {},
   "source": [
    "<font color=\"red\">What difference can you hear between these signals?"
   ]
  },
  {
   "cell_type": "markdown",
   "metadata": {},
   "source": [
    "### Part h)\n",
    "Now, we'll see how well this gamma works for other noise. \n",
    "\n",
    "We will run through the simulation again, but this time, we will just use the gamma from before instead of going through a training step."
   ]
  },
  {
   "cell_type": "code",
   "execution_count": null,
   "metadata": {},
   "outputs": [],
   "source": [
    "noisyMusic_2 = music_y + noise2_y;\n",
    "R_2 = recordAmbientNoise(noise2_y,noise2_Fs,numberOfMicrophones);\n",
    "# BEGIN\n",
    "'...'\n",
    "signalFromSpeaker_2 = '...' \n",
    "signalAtEar_2 = '...'\n",
    "# END \n",
    "\n",
    "wavPlayer(noisyMusic_2, music_Fs)\n",
    "wavPlayer(signalAtEar_2, music_Fs)"
   ]
  },
  {
   "cell_type": "markdown",
   "metadata": {},
   "source": [
    "<font color=\"red\"> What do you hear in the noise-cancelled signal?"
   ]
  }
 ],
 "metadata": {
  "anaconda-cloud": {},
  "kernelspec": {
   "display_name": "Python 3",
   "language": "python",
   "name": "python3"
  },
  "language_info": {
   "codemirror_mode": {
    "name": "ipython",
    "version": 3
   },
   "file_extension": ".py",
   "mimetype": "text/x-python",
   "name": "python",
   "nbconvert_exporter": "python",
   "pygments_lexer": "ipython3",
   "version": "3.7.7"
  }
 },
 "nbformat": 4,
 "nbformat_minor": 2
}
