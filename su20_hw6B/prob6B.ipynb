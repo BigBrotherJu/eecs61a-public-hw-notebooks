{
 "cells": [
  {
   "cell_type": "markdown",
   "metadata": {},
   "source": [
    "# EECS16A Homework 6B"
   ]
  },
  {
   "cell_type": "markdown",
   "metadata": {},
   "source": [
    "## Problem 3: Image Analysis"
   ]
  },
  {
   "cell_type": "code",
   "execution_count": null,
   "metadata": {},
   "outputs": [],
   "source": [
    "import numpy as np\n",
    "import matplotlib.pyplot as plt\n",
    "%matplotlib notebook"
   ]
  },
  {
   "cell_type": "code",
   "execution_count": null,
   "metadata": {},
   "outputs": [],
   "source": [
    "def plot_circle(a, d, e, color='r'):\n",
    "    \"\"\"\n",
    "    You can use this function to plot circles with parameters a,d,e.\n",
    "    The parameters are described in the homework pdf. \n",
    "    \n",
    "    \"\"\"\n",
    "    is_circle = d**2 + e**2 + 4*a > 0\n",
    "    assert is_circle, \"Not a circle\"\n",
    "    \n",
    "    XLIM_LO = -1\n",
    "    XLIM_HI = 3\n",
    "    YLIM_LO = -2\n",
    "    YLIM_HI = 2\n",
    "    X_COUNT = 400\n",
    "    Y_COUNT = 400\n",
    "    \n",
    "    x = np.linspace(XLIM_LO, XLIM_HI, X_COUNT)\n",
    "    y = np.linspace(YLIM_LO, YLIM_HI, Y_COUNT)\n",
    "    x, y = np.meshgrid(x, y)\n",
    "    f = lambda x,y: a*(x**2 + y**2) + d*x + e*y\n",
    "    \n",
    "    c1 = plt.contour(x, y, f(x,y), [1], colors=color)\n",
    "    plt.axis('scaled')\n",
    "    plt.xlabel('x')\n",
    "    plt.ylabel('y')\n",
    "    return c1"
   ]
  },
  {
   "cell_type": "code",
   "execution_count": null,
   "metadata": {},
   "outputs": [],
   "source": [
    "def plot_ellipse(a, b, c, d, e, color='b'):\n",
    "    \"\"\"\n",
    "    You can use this function to plot ellipses with parameters a-e.\n",
    "    The parameters are described in the homework pdf. \n",
    "    \"\"\"\n",
    "    is_ellipse = b**2 - 4*a*c < 0\n",
    "    assert is_ellipse, \"Not an ellipse\"\n",
    "    \n",
    "    XLIM_LO = -1\n",
    "    XLIM_HI = 3\n",
    "    YLIM_LO = -2\n",
    "    YLIM_HI = 3\n",
    "    X_COUNT = 400\n",
    "    Y_COUNT = 400\n",
    "    \n",
    "    x = np.linspace(XLIM_LO, XLIM_HI, X_COUNT)\n",
    "    y = np.linspace(YLIM_LO, YLIM_HI, Y_COUNT)\n",
    "    x, y = np.meshgrid(x, y)\n",
    "    f = lambda x,y: a*x**2 + b*x*y + c*y**2 + d*x + e*y\n",
    "    \n",
    "    c1 = plt.contour(x, y, f(x,y), [1], colors=color)\n",
    "    plt.axis('scaled')\n",
    "    plt.xlabel('x')\n",
    "    plt.ylabel('y')\n",
    "    return c1"
   ]
  },
  {
   "cell_type": "code",
   "execution_count": null,
   "metadata": {
    "scrolled": false
   },
   "outputs": [],
   "source": [
    "# Here is an example of plot_ellipse.\n",
    "# This plots (x-1)**2 + (y-1)**2 = 1, \n",
    "# which is a circle with radius =1 centered at (1,1). \n",
    "\n",
    "plt.figure(figsize=(6,6))\n",
    "plot_ellipse(-1, 0, -1, 2, 2)\n",
    "plt.title('Ellipse with parameters (-1, 0, -1, 2, 2)')"
   ]
  },
  {
   "cell_type": "markdown",
   "metadata": {},
   "source": [
    "\n",
    "You may find plt.scatter useful for plotting the points."
   ]
  },
  {
   "cell_type": "markdown",
   "metadata": {},
   "source": [
    "### Part (c)"
   ]
  },
  {
   "cell_type": "code",
   "execution_count": null,
   "metadata": {},
   "outputs": [],
   "source": [
    "xy = np.array([[0.3, -0.69],\n",
    "               [0.5, 0.87],\n",
    "               [0.9, -0.86],\n",
    "               [1, 0.88],\n",
    "               [1.2, -0.82],\n",
    "               [1.5, .64],\n",
    "               [1.8, 0]])\n",
    "x = xy[:,0]\n",
    "y = xy[:,1]\n",
    "\n",
    "# New figure\n",
    "plt.figure(figsize=(6,6))\n",
    "\n",
    "# plot the data points\n",
    "plt.scatter(x,y)\n",
    "\n",
    "# First we compute our estimated coefficients\n",
    "A = # YOUR CODE HERE\n",
    "b = # YOUR CODE HERE\n",
    "circle_params = # YOUR CODE HERE\n",
    "print(circle_params)\n",
    "\n",
    "# Then we plot\n",
    "circ = plot_circle(circle_params[0], circle_params[1], circle_params[2])\n",
    "plt.scatter(x,y, color='k')\n",
    "plt.title('Data with least squares fit')\n",
    "\n",
    "# Compute error\n",
    "e = # YOUR CODE HERE\n",
    "print(\"e = {}\\n\".format(e))\n",
    "\n",
    "e_magnitude = # YOUR CODE HERE\n",
    "\n",
    "print(\"||e|| = {}\\n\".format(e_magnitude))\n",
    "N = 7\n",
    "print(\"||e|| / N = {}\\n\".format(e_magnitude / N))"
   ]
  },
  {
   "cell_type": "markdown",
   "metadata": {},
   "source": [
    "### Part (d)"
   ]
  },
  {
   "cell_type": "code",
   "execution_count": null,
   "metadata": {},
   "outputs": [],
   "source": [
    "# Part D\n",
    "\n",
    "A = # YOUR CODE HERE\n",
    "b = # YOUR CODE HERE\n",
    "\n",
    "ellipse_params = # YOUR CODE HERE\n",
    "print(ellipse_params)\n",
    "\n",
    "## Plotting the fitted circle and the fitted ellipse together\n",
    "circ = plot_circle(circle_params[0], circle_params[1], circle_params[2])\n",
    "plt.scatter(x,y, color='k')\n",
    "ellipse = plot_ellipse(ellipse_params[0],ellipse_params[1],ellipse_params[2],ellipse_params[3],ellipse_params[4])\n",
    "circ_leg,_ = circ.legend_elements()\n",
    "elip_leg,_ = ellipse.legend_elements()\n",
    "plt.legend([circ_leg[0], elip_leg[0]], ['Circle', 'Ellipse'])\n",
    "\n",
    "# Compute error\n",
    "e = # YOUR CODE HERE\n",
    "print(\"e = {}\\n\".format(e))\n",
    "\n",
    "e_magnitude = # YOUR CODE HERE\n",
    "\n",
    "print(\"||e|| = {}\\n\".format(e_magnitude))\n",
    "N = 7\n",
    "print(\"||e|| / N = {}\\n\".format(e_magnitude / N))"
   ]
  },
  {
   "cell_type": "markdown",
   "metadata": {},
   "source": [
    "## Problem 4: GPS Receivers"
   ]
  },
  {
   "cell_type": "code",
   "execution_count": null,
   "metadata": {},
   "outputs": [],
   "source": [
    "%pylab inline\n",
    "import numpy as np\n",
    "import matplotlib.pyplot as plt\n",
    "import scipy.io\n",
    "import sys"
   ]
  },
  {
   "cell_type": "code",
   "execution_count": null,
   "metadata": {},
   "outputs": [],
   "source": [
    "## RUN THIS FUNCTION BEFORE YOU START THIS PROBLEM\n",
    "## This function will generate the gold code associated with the satellite ID using linear shift registers\n",
    "## The satellite_ID can be any integer between 1 and 24\n",
    "def Gold_code_satellite(satellite_ID):\n",
    "    codelength = 1023\n",
    "    registerlength = 10\n",
    "    \n",
    "    # Defining the MLS for G1 generator\n",
    "    register1 = -1*np.ones(registerlength)\n",
    "    MLS1 = np.zeros(codelength)\n",
    "    for i in range(codelength):\n",
    "        MLS1[i] = register1[9]\n",
    "        modulo = register1[2]*register1[9]\n",
    "        register1 = np.roll(register1,1)\n",
    "        register1[0] = modulo\n",
    "    \n",
    "    # Defining the MLS for G2 generator\n",
    "    register2 = -1*np.ones(registerlength)\n",
    "    MLS2 = np.zeros(codelength)\n",
    "    for j in range(codelength):\n",
    "        MLS2[j] = register2[9]\n",
    "        modulo = register2[1]*register2[2]*register2[5]*register2[7]*register2[8]*register2[9]\n",
    "        register2 = np.roll(register2,1)\n",
    "        register2[0] = modulo\n",
    "    \n",
    "    delay = np.array([5,6,7,8,17,18,139,140,141,251,252,254,255,256,257,258,469,470,471,472,473,474,509,512,513,514,515,516,859,860,861,862])\n",
    "    G1_out = MLS1;\n",
    "    shamt = delay[satellite_ID - 1]\n",
    "    G2_out = np.roll(MLS2,shamt)\n",
    "    \n",
    "    CA_code = G1_out * G2_out\n",
    "    \n",
    "    return CA_code"
   ]
  },
  {
   "cell_type": "markdown",
   "metadata": {},
   "source": [
    "### Part (a)"
   ]
  },
  {
   "cell_type": "code",
   "execution_count": null,
   "metadata": {},
   "outputs": [],
   "source": [
    "def cross_correlation(array1, array2):\n",
    "    \"\"\" This function should return two arrays or a matrix with one row corresponding to \n",
    "    the offset and other to the correlation value. array1 and array2 do not have to be\n",
    "    arrays of equal length.\n",
    "    Think of array1 as the received signal and array2 as the signature.\n",
    "    The function should return correlation values as well as the indices of the nonzero values of the correlation\n",
    "    Hint: look up np.correlate\n",
    "    \"\"\"\n",
    "\n",
    "    #correlated_array = #Your code here (it is just one line) np.correlate(array1, array2, 'full')\n",
    "    correlated_array = np.correlate(array1, array2, 'full')\n",
    "    \n",
    "    #Since both the arrays start at 0, the last \"shift\" where the signals overlap is the length of the first array\n",
    "    end_index = len(array1)\n",
    "    \n",
    "    #Similarly, the first \"shift\" where the signals overlap is the negative of the length of the second array, offset by one because of the zero index.\n",
    "    st_index = -len(array2) + 1\n",
    "    \n",
    "    indices = np.arange(st_index, end_index)    \n",
    "    return (indices, correlated_array)"
   ]
  },
  {
   "cell_type": "code",
   "execution_count": null,
   "metadata": {
    "inputHidden": false,
    "outputHidden": false
   },
   "outputs": [],
   "source": [
    "# Plot the auto-correlation of satellite 10 with itself. Fill in the function call.\n",
    "array_10 = Gold_code_satellite(10)\n",
    "\n",
    "(ind_10, self_10) = # your code here\n",
    "\n",
    "plt.figure(figsize=(10, 4))\n",
    "plt.stem(ind_10, self_10)\n",
    "plt.xlabel(\"Index of correlation\")\n",
    "plt.ylabel(\"Correlation value\")"
   ]
  },
  {
   "cell_type": "markdown",
   "metadata": {},
   "source": [
    "### Part (b) \n",
    "Plot the cross correlation when array1 = satellite 13 and array2 = satellite10"
   ]
  },
  {
   "cell_type": "code",
   "execution_count": null,
   "metadata": {},
   "outputs": [],
   "source": [
    "#Your code here"
   ]
  },
  {
   "cell_type": "markdown",
   "metadata": {},
   "source": [
    "### Part (c)"
   ]
  },
  {
   "cell_type": "code",
   "execution_count": null,
   "metadata": {},
   "outputs": [],
   "source": [
    "## THIS IS A HELPER FUNCTION FOR PART C THAT GENERATES +-1 RANDOM NOISE\n",
    "def integernoise_generator(length_of_noise):\n",
    "    noise_array = np.random.randint(2, size=length_of_noise)\n",
    "    noise_array = 2 * noise_array - np.ones(len(noise_array))\n",
    "    return noise_array\n",
    "\n",
    "# YOUR CODE HERE\n"
   ]
  },
  {
   "cell_type": "markdown",
   "metadata": {},
   "source": [
    "### Part (d)"
   ]
  },
  {
   "cell_type": "code",
   "execution_count": null,
   "metadata": {},
   "outputs": [],
   "source": [
    "## THIS IS A HELPER FUNCTION FOR PART D THAT GENERATES REAL VALUED RANDOM NOISE\n",
    "def gaussiannoise_generator(length_of_noise):\n",
    "    noise_array = np.random.normal(0, 1, length_of_noise)\n",
    "    return noise_array\n",
    "\n",
    "# YOUR CODE HERE\n"
   ]
  },
  {
   "cell_type": "markdown",
   "metadata": {},
   "source": [
    "### Part (e)\n",
    "Hint: you can use a absolute value threshold of 800 for the cross-correlation to detect if a given satellite is present. np.argwhere may be useful for detecting peak locations."
   ]
  },
  {
   "cell_type": "code",
   "execution_count": null,
   "metadata": {
    "inputHidden": false,
    "outputHidden": false
   },
   "outputs": [],
   "source": [
    "#Now let us see which signals are present in the data signal that is in data1.npy\n",
    "signal1 = np.load('data1.npy')"
   ]
  },
  {
   "cell_type": "code",
   "execution_count": null,
   "metadata": {
    "inputHidden": false,
    "outputHidden": false
   },
   "outputs": [],
   "source": [
    "#Here try plotting the cross-correlations of data1.npy with a few of the satellite gold codes. \n",
    "#How can you detect if the satellite is present?\n"
   ]
  },
  {
   "cell_type": "code",
   "execution_count": null,
   "metadata": {},
   "outputs": [],
   "source": [
    "## This helper function returns 1 if peak (greater than threshold or less than -threshold) is found, else it returns 0.\n",
    "## You do not have to use this function as there are other solutions to this part as well\n",
    "\n",
    "def find_peak(signal, threshold):\n",
    "    max_value = np.amax(signal)\n",
    "    min_value = np.amin(signal)\n",
    "    if max_value > threshold:\n",
    "        ret_value = 1\n",
    "    elif min_value < -1 * threshold:\n",
    "        ret_value = 1\n",
    "    else:\n",
    "        ret_value = 0\n",
    "    return ret_value"
   ]
  },
  {
   "cell_type": "code",
   "execution_count": null,
   "metadata": {
    "inputHidden": false,
    "outputHidden": false
   },
   "outputs": [],
   "source": [
    "## USE 'np.load' FUNCTION TO LOAD THE DATA\n",
    "## USE DATA1.NPY AS THE SIGNAL ARRAY\n",
    "# YOUR CODE HERE\n"
   ]
  },
  {
   "cell_type": "markdown",
   "metadata": {},
   "source": [
    "### Part (f)"
   ]
  },
  {
   "cell_type": "code",
   "execution_count": null,
   "metadata": {},
   "outputs": [],
   "source": [
    "## USE DATA2.NPY AS THE SIGNAL ARRAY\n",
    "\n",
    "# YOUR CODE HERE --- first write code to figure out which satellite is present\n"
   ]
  },
  {
   "cell_type": "code",
   "execution_count": null,
   "metadata": {},
   "outputs": [],
   "source": [
    "## Once you have figured out which satellite is present, proceed to find the data transmitted\n"
   ]
  },
  {
   "cell_type": "markdown",
   "metadata": {},
   "source": [
    "### Part (g)"
   ]
  },
  {
   "cell_type": "code",
   "execution_count": null,
   "metadata": {},
   "outputs": [],
   "source": [
    "## USE DATA3.NPY AS THE SIGNAL ARRAY\n",
    "\n",
    "# YOUR CODE HERE\n"
   ]
  },
  {
   "cell_type": "code",
   "execution_count": null,
   "metadata": {},
   "outputs": [],
   "source": [
    "## We know that the data is 1, 1, -1, -1, -1, so we just find the positions of the first 1 in both the satellite correlations.\n",
    "## plot the appropriate cross_correlation and find the location of the first 1\n",
    "## Do this for as many satellites as there are present\n",
    "## Your code here"
   ]
  },
  {
   "cell_type": "markdown",
   "metadata": {
    "inputHidden": false,
    "outputHidden": false
   },
   "source": [
    "## Problem 5: Targeted Promotion"
   ]
  },
  {
   "cell_type": "code",
   "execution_count": null,
   "metadata": {},
   "outputs": [],
   "source": [
    "def eeheeh_promotions(M_food, M_movies, M_art, M_books, sA1, sA2, sA3, sA4):\n",
    "\n",
    "    return (xc)"
   ]
  },
  {
   "cell_type": "code",
   "execution_count": null,
   "metadata": {},
   "outputs": [],
   "source": [
    "sA1 = np.array([[1/2],[1/2], [-1/2], [1/2]])\n",
    "sA2 = np.array([[2/3],[-1/2], [1/2], [1/3]])\n",
    "sA3 = np.array([[-1/2],[-1/2], [5/2], [-1/2]])\n",
    "sA4 = np.array([[0],[1/2], [0], [1/2]])\n",
    "M_food = 6\n",
    "M_movies = 4\n",
    "M_art = 1\n",
    "M_books = 5\n",
    "\n",
    "eeheeh_promotions(M_food, M_movies, M_art, M_books, sA1, sA2, sA3, sA4)"
   ]
  }
 ],
 "metadata": {
  "anaconda-cloud": {},
  "kernel_info": {
   "name": "python3"
  },
  "kernelspec": {
   "display_name": "Python 3",
   "language": "python",
   "name": "python3"
  },
  "language_info": {
   "codemirror_mode": {
    "name": "ipython",
    "version": 3
   },
   "file_extension": ".py",
   "mimetype": "text/x-python",
   "name": "python",
   "nbconvert_exporter": "python",
   "pygments_lexer": "ipython3",
   "version": "3.7.1"
  },
  "nteract": {
   "version": "0.12.3"
  }
 },
 "nbformat": 4,
 "nbformat_minor": 1
}
